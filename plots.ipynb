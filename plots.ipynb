{
 "cells": [
  {
   "cell_type": "markdown",
   "metadata": {},
   "source": [
    "# imports"
   ]
  },
  {
   "cell_type": "code",
   "execution_count": null,
   "metadata": {},
   "outputs": [],
   "source": [
    "import os\n",
    "import os.path\n",
    "import pickle\n",
    "import matplotlib.pyplot as plt\n",
    "\n",
    "from test_runner import TestCase, BaseTestRunner, LiftedPlanningRunner, GroundedPlanningRunner\n",
    "from test_runner.tapaal_caller import QueryResult\n"
   ]
  },
  {
   "cell_type": "markdown",
   "metadata": {},
   "source": [
    "# Load Data"
   ]
  },
  {
   "cell_type": "code",
   "execution_count": null,
   "metadata": {},
   "outputs": [],
   "source": [
    "results_dir = \"./results\"\n",
    "plot_save_dir = \"./results/plots\"\n",
    "\n",
    "os.makedirs(plot_save_dir, exist_ok=True)\n",
    "\n",
    "\n",
    "results: dict[TestCase, dict[BaseTestRunner, list[QueryResult]]] = {}\n",
    "\n",
    "for filename in os.listdir(results_dir):\n",
    "    print(f\"Loading {filename}\")\n",
    "    full_path = os.path.join(results_dir, filename)\n",
    "    if os.path.isfile(full_path):\n",
    "        with open(full_path, \"rb\") as f:\n",
    "            data: dict[TestCase, dict[BaseTestRunner, list[QueryResult]]] = pickle.load(f)\n",
    "            for k,v in data.items():\n",
    "                results[k] = v\n",
    "\n",
    "results"
   ]
  },
  {
   "cell_type": "markdown",
   "metadata": {},
   "source": [
    "# Plots"
   ]
  },
  {
   "cell_type": "markdown",
   "metadata": {},
   "source": [
    "## General Setup"
   ]
  },
  {
   "cell_type": "code",
   "execution_count": null,
   "metadata": {},
   "outputs": [],
   "source": []
  },
  {
   "cell_type": "markdown",
   "metadata": {},
   "source": [
    "## Cactus Plot"
   ]
  },
  {
   "cell_type": "code",
   "execution_count": null,
   "metadata": {},
   "outputs": [],
   "source": [
    "# Total Time\n",
    "\n",
    "fig_rows = 2\n",
    "fig_cols = 3\n",
    "\n",
    "i=1\n",
    "plt.figure(figsize=(10, 6))\n",
    "for test_case, runners in results.items():\n",
    "    plt.subplot(fig_rows, fig_cols, i)\n",
    "    for runner, query_results in runners.items():\n",
    "        # times = [res.time_total for res in query_results]\n",
    "        times = [res.time_total for res in query_results]\n",
    "        times.sort()\n",
    "        median = times[int(len(times)/2)]\n",
    "        plt.plot(times, 'o-', label=f\"{runner.translation_name}\")  # - {runner.description} - median={median:.4f}\")\n",
    "\n",
    "    plt.title(f'Total Time - {test_case.name}')\n",
    "    plt.gca().legend(loc='best')\n",
    "    plt.xlabel('Index')\n",
    "    plt.ylabel('Time (sec)')\n",
    "\n",
    "    #Saving the plots\n",
    "    # filename = f'plots/{runner}_{test_case}.png'\n",
    "    # plt.savefig(filename)\n",
    "    i += 1\n",
    "\n",
    "plt.savefig(os.path.join(plot_save_dir, \"blocksworld_total_time.png\"))"
   ]
  },
  {
   "cell_type": "code",
   "execution_count": null,
   "metadata": {},
   "outputs": [],
   "source": [
    "# Tapaal Time\n",
    "\n",
    "fig_rows = 2\n",
    "fig_cols = 3\n",
    "\n",
    "i=1\n",
    "plt.figure(figsize=(10, 6))\n",
    "for test_case, runners in results.items():\n",
    "    plt.subplot(fig_rows, fig_cols, i)\n",
    "    for runner, query_results in runners.items():\n",
    "        times = [res.time_tapaal for res in query_results]\n",
    "        times.sort()\n",
    "        median = times[int(len(times)/2)]\n",
    "        plt.plot(times, 'o-', label=f\"{runner.translation_name}\")  # - {runner.description} - median={median:.4f}\")\n",
    "\n",
    "    plt.title(f'Tapaal Time - {test_case.name}')\n",
    "    plt.gca().legend(loc='best')\n",
    "    plt.xlabel('Index')\n",
    "    plt.ylabel('Time (sec)')\n",
    "\n",
    "    #Saving the plots\n",
    "    # filename = f'plots/{runner}_{test_case}.png'\n",
    "    # plt.savefig(filename)\n",
    "    i += 1\n",
    "\n",
    "plt.savefig(os.path.join(plot_save_dir, \"blocksworld_tapaal_time.png\"))"
   ]
  },
  {
   "cell_type": "code",
   "execution_count": null,
   "metadata": {},
   "outputs": [],
   "source": [
    "# Verification Time\n",
    "\n",
    "fig_rows = 2\n",
    "fig_cols = 3\n",
    "\n",
    "i=1\n",
    "plt.figure(figsize=(10, 6))\n",
    "for test_case, runners in results.items():\n",
    "    plt.subplot(fig_rows, fig_cols, i)\n",
    "    for runner, query_results in runners.items():\n",
    "        times = [res.output[\"time_verification\"] for res in query_results]\n",
    "        times.sort()\n",
    "        median = times[int(len(times)/2)]\n",
    "        plt.plot(times, 'o-', label=f\"{runner.translation_name}\")  # - {runner.description} - median={median:.4f}\")\n",
    "\n",
    "    plt.title(f'Verification Time - {test_case.name}')\n",
    "    plt.gca().legend(loc='best')\n",
    "    plt.xlabel('Index')\n",
    "    plt.ylabel('Time (sec)')\n",
    "\n",
    "    #Saving the plots\n",
    "    # filename = f'plots/{runner}_{test_case}.png'\n",
    "    # plt.savefig(filename)\n",
    "    i += 1\n",
    "\n",
    "# plt.show()\n",
    "plt.savefig(os.path.join(plot_save_dir, \"blocksworld_verification_time.png\"))"
   ]
  },
  {
   "cell_type": "code",
   "execution_count": null,
   "metadata": {
    "collapsed": false
   },
   "outputs": [],
   "source": [
    "# Translation Time\n",
    "\n",
    "fig_rows = 2\n",
    "fig_cols = 3\n",
    "\n",
    "i=1\n",
    "plt.figure(figsize=(10, 6))\n",
    "for test_case, runners in results.items():\n",
    "    plt.subplot(fig_rows, fig_cols, i)\n",
    "    for runner, query_results in runners.items():\n",
    "        times = [res.time_translation for res in query_results]\n",
    "        times.sort()\n",
    "        median = times[int(len(times)/2)]\n",
    "        plt.plot(times, 'o-', label=f\"{runner.translation_name}\")  # - {runner.description} - median={median:.4f}\")\n",
    "\n",
    "    plt.title(f'Translation Time - {test_case.name}')\n",
    "    plt.gca().legend(loc='best')\n",
    "    plt.xlabel('Index')\n",
    "    plt.ylabel('Time (sec)')\n",
    "\n",
    "    #Saving the plots\n",
    "    # filename = f'plots/{runner}_{test_case}.png'\n",
    "    # plt.savefig(filename)\n",
    "    i += 1\n",
    "\n",
    "# plt.show()\n",
    "plt.savefig(os.path.join(plot_save_dir, \"blocksworld_translation_time.png\"))"
   ]
  }
 ],
 "metadata": {
  "kernelspec": {
   "display_name": "Python 3",
   "language": "python",
   "name": "python3"
  },
  "language_info": {
   "codemirror_mode": {
    "name": "ipython",
    "version": 3
   },
   "file_extension": ".py",
   "mimetype": "text/x-python",
   "name": "python",
   "nbconvert_exporter": "python",
   "pygments_lexer": "ipython3",
   "version": "3.9.0"
  },
  "orig_nbformat": 4
 },
 "nbformat": 4,
 "nbformat_minor": 2
}
