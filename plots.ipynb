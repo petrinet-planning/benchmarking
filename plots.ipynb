{
 "cells": [
  {
   "cell_type": "code",
   "execution_count": 1,
   "metadata": {},
   "outputs": [],
   "source": [
    "import os\n",
    "import os.path\n",
    "import pickle\n",
    "\n",
    "from test_runner import TestCase, BaseTestRunner, LiftedPlanningRunner, GroundedPlanningRunner\n",
    "from test_runner.tapaal_caller import QueryResult\n"
   ]
  },
  {
   "cell_type": "code",
   "execution_count": 5,
   "metadata": {},
   "outputs": [],
   "source": [
    "results_dir = \"./results\"\n",
    "\n",
    "results: dict[TestCase, dict[BaseTestRunner, list[QueryResult]]] = {}\n",
    "\n",
    "for filename in os.listdir(results_dir):\n",
    "    full_path = os.path.join(results_dir, filename)\n",
    "    if os.path.isfile(full_path):\n",
    "        with open(full_path, \"rb\") as f:\n",
    "            data: dict[TestCase, dict[BaseTestRunner, list[QueryResult]]] = pickle.load(f)\n",
    "            for k,v in data.items():\n",
    "                results[k] = v\n"
   ]
  }
 ],
 "metadata": {
  "kernelspec": {
   "display_name": "Python 3",
   "language": "python",
   "name": "python3"
  },
  "language_info": {
   "codemirror_mode": {
    "name": "ipython",
    "version": 3
   },
   "file_extension": ".py",
   "mimetype": "text/x-python",
   "name": "python",
   "nbconvert_exporter": "python",
   "pygments_lexer": "ipython3",
   "version": "3.9.0"
  },
  "orig_nbformat": 4
 },
 "nbformat": 4,
 "nbformat_minor": 2
}
