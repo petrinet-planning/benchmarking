{
 "cells": [
  {
   "cell_type": "markdown",
   "metadata": {},
   "source": [
    "# imports"
   ]
  },
  {
   "cell_type": "code",
   "execution_count": null,
   "metadata": {},
   "outputs": [],
   "source": [
    "import os\n",
    "import os.path\n",
    "import pickle\n",
    "import matplotlib.pyplot as plt\n",
    "from typing import Callable\n",
    "\n",
    "from test_runner import *\n",
    "from test_runner.translators import *\n",
    "from test_runner.analysers import SearchResult\n",
    "\n",
    "\n",
    "# from test_runner import TestCase, BaseTestRunner, LiftedPlanningRunner, GroundedPlanningRunner\n",
    "# from test_runner.tapaal_caller import QueryResult\n",
    "\n",
    "from parse_results import translator_result_type, search_result_type#, load_translator_results, load_search_results, \n"
   ]
  },
  {
   "cell_type": "markdown",
   "metadata": {},
   "source": [
    "# Load Data"
   ]
  },
  {
   "cell_type": "code",
   "execution_count": null,
   "metadata": {},
   "outputs": [],
   "source": [
    "\n",
    "\n",
    "results_dir = \"./results\"\n",
    "plot_save_dir = \"./results/plots\"\n",
    "\n",
    "os.makedirs(plot_save_dir, exist_ok=True)\n",
    "\n",
    "\n",
    "results_path = \"./results\"\n",
    "\n",
    "def load_translator_results() -> translator_result_type:\n",
    "    with open(os.path.join(results_path, f\"translator_results.pickle\"), \"rb\") as f:\n",
    "        return pickle.load(f)\n",
    "\n",
    "\n",
    "def load_search_results() -> search_result_type:\n",
    "    with open(os.path.join(results_path, f\"search_results.pickle\"), \"rb\") as f:\n",
    "        return pickle.load(f)\n",
    "    \n",
    "\n",
    "translator_results: translator_result_type = load_translator_results()\n",
    "search_results: search_result_type = load_search_results()\n",
    "\n",
    "# searcher -> translator -> test_case\n",
    "search_results_search_translator_test_case: dict[\"BaseSearcher\", dict[\"BaseTranslator\", dict[\"TestCase\", list[\"SearchResult\"]]]] = dict()\n",
    "for translator, translator_results in search_results.items():\n",
    "    for test_case, test_results in translator_results.items():\n",
    "        for search, results in test_results.items():\n",
    "            search_results_search_translator_test_case[search] = search_results_search_translator_test_case.get(search, dict())\n",
    "            search_results_search_translator_test_case[search][translator] = search_results_search_translator_test_case[search].get(translator, dict())\n",
    "            search_results_search_translator_test_case[search][translator][test_case] = results\n",
    "\n",
    "\n",
    "# test_case _> searcher -> translator\n",
    "search_results_test_case_searcher_translator: dict[\"TestCase\", dict[\"BaseSearcher\", dict[\"BaseTranslator\", list[\"SearchResult\"]]]] = dict()\n",
    "for translator, translator_results in search_results.items():\n",
    "    for test_case, test_results in translator_results.items():\n",
    "        for search, results in test_results.items():\n",
    "            search_results_test_case_searcher_translator[test_case] = search_results_test_case_searcher_translator.get(test_case, dict())\n",
    "            search_results_test_case_searcher_translator[test_case][search] = search_results_test_case_searcher_translator[test_case].get(search, dict())\n",
    "            search_results_test_case_searcher_translator[test_case][search][translator] = results\n",
    "\n"
   ]
  },
  {
   "cell_type": "code",
   "execution_count": null,
   "metadata": {},
   "outputs": [],
   "source": [
    "results_dir = \"./results\"\n",
    "plot_save_dir = \"./results/plots\"\n",
    "\n",
    "os.makedirs(plot_save_dir, exist_ok=True)\n",
    "\n",
    "\n",
    "results: dict[TestCase, dict[BaseTestRunner, list[QueryResult]]] = {}\n",
    "\n",
    "for filename in os.listdir(results_dir):\n",
    "    print(f\"Loading {filename}\")\n",
    "    full_path = os.path.join(results_dir, filename)\n",
    "    if os.path.isfile(full_path):\n",
    "        with open(full_path, \"rb\") as f:\n",
    "            data: dict[TestCase, dict[BaseTestRunner, list[QueryResult]]] = pickle.load(f)\n",
    "            for k,v in data.items():\n",
    "                results[k] = v\n",
    "\n",
    "results"
   ]
  },
  {
   "cell_type": "markdown",
   "metadata": {},
   "source": [
    "# Plots"
   ]
  },
  {
   "cell_type": "markdown",
   "metadata": {},
   "source": [
    "## General Setup"
   ]
  },
  {
   "cell_type": "code",
   "execution_count": null,
   "metadata": {},
   "outputs": [],
   "source": [
    "\n"
   ]
  },
  {
   "cell_type": "markdown",
   "metadata": {},
   "source": [
    "## Cactus Plot"
   ]
  },
  {
   "cell_type": "code",
   "execution_count": null,
   "metadata": {},
   "outputs": [],
   "source": [
    "# System + User Time\n",
    "\n",
    "def make_cactus_plot(name: str, description: str, reduction: Callable[[\"SearchResult\"], float]):\n",
    "    fig_rows = 4\n",
    "    fig_cols = 3\n",
    "\n",
    "\n",
    "    i=1\n",
    "    plt.figure(figsize=(20, 12))\n",
    "    for (test_case, test_case_results) in search_results_test_case_searcher_translator.items():\n",
    "        plt.subplot(fig_rows, fig_cols, i)\n",
    "        for (searcher, searcher_results) in test_case_results.items():\n",
    "            for (translator, results) in searcher_results.items():\n",
    "                times = [reduction(res) for res in results]\n",
    "                times.sort()\n",
    "                median = times[int(len(times)/2)]\n",
    "                plt.plot(times, 'o-', label=f\"{translator.name}({searcher.name}) - median={median:.4f}\")\n",
    "\n",
    "        plt.title(f'{description} - {test_case.name}')\n",
    "        plt.gca().legend(loc='best')\n",
    "        plt.xlabel('Index')\n",
    "        plt.ylabel('Time (sec)')\n",
    "        i += 1\n",
    "\n",
    "    plt.savefig(os.path.join(plot_save_dir, f\"{name}.png\"))\n",
    "\n",
    "make_cactus_plot(\"total_time\", \"System + User time\", lambda res: res.time.seconds_system + res.time.seconds_user)\n"
   ]
  },
  {
   "cell_type": "code",
   "execution_count": null,
   "metadata": {},
   "outputs": [],
   "source": [
    "# Total Time\n",
    "\n",
    "fig_rows = 2\n",
    "fig_cols = 3\n",
    "\n",
    "i=1\n",
    "plt.figure(figsize=(10, 6))\n",
    "for test_case, runners in results.items():\n",
    "    plt.subplot(fig_rows, fig_cols, i)\n",
    "    for runner, query_results in runners.items():\n",
    "        # times = [res.time_total for res in query_results]\n",
    "        times = [res.time_total for res in query_results]\n",
    "        times.sort()\n",
    "        median = times[int(len(times)/2)]\n",
    "        plt.plot(times, 'o-', label=f\"{runner.translation_name}\")  # - {runner.description} - median={median:.4f}\")\n",
    "\n",
    "    plt.title(f'Total Time - {test_case.name}')\n",
    "    plt.gca().legend(loc='best')\n",
    "    plt.xlabel('Index')\n",
    "    plt.ylabel('Time (sec)')\n",
    "\n",
    "    #Saving the plots\n",
    "    # filename = f'plots/{runner}_{test_case}.png'\n",
    "    # plt.savefig(filename)\n",
    "    i += 1\n",
    "\n",
    "plt.savefig(os.path.join(plot_save_dir, \"blocksworld_total_time.png\"))"
   ]
  },
  {
   "cell_type": "code",
   "execution_count": null,
   "metadata": {},
   "outputs": [],
   "source": [
    "# Tapaal Time\n",
    "\n",
    "fig_rows = 2\n",
    "fig_cols = 3\n",
    "\n",
    "i=1\n",
    "plt.figure(figsize=(10, 6))\n",
    "for test_case, runners in results.items():\n",
    "    plt.subplot(fig_rows, fig_cols, i)\n",
    "    for runner, query_results in runners.items():\n",
    "        times = [res.time_tapaal for res in query_results]\n",
    "        times.sort()\n",
    "        median = times[int(len(times)/2)]\n",
    "        plt.plot(times, 'o-', label=f\"{runner.translation_name}\")  # - {runner.description} - median={median:.4f}\")\n",
    "\n",
    "    plt.title(f'Tapaal Time - {test_case.name}')\n",
    "    plt.gca().legend(loc='best')\n",
    "    plt.xlabel('Index')\n",
    "    plt.ylabel('Time (sec)')\n",
    "\n",
    "    #Saving the plots\n",
    "    # filename = f'plots/{runner}_{test_case}.png'\n",
    "    # plt.savefig(filename)\n",
    "    i += 1\n",
    "\n",
    "plt.savefig(os.path.join(plot_save_dir, \"blocksworld_tapaal_time.png\"))"
   ]
  },
  {
   "cell_type": "code",
   "execution_count": null,
   "metadata": {},
   "outputs": [],
   "source": [
    "# Verification Time\n",
    "\n",
    "fig_rows = 2\n",
    "fig_cols = 3\n",
    "\n",
    "i=1\n",
    "plt.figure(figsize=(10, 6))\n",
    "for test_case, runners in results.items():\n",
    "    plt.subplot(fig_rows, fig_cols, i)\n",
    "    for runner, query_results in runners.items():\n",
    "        times = [res.output[\"time_verification\"] for res in query_results]\n",
    "        times.sort()\n",
    "        median = times[int(len(times)/2)]\n",
    "        plt.plot(times, 'o-', label=f\"{runner.translation_name}\")  # - {runner.description} - median={median:.4f}\")\n",
    "\n",
    "    plt.title(f'Verification Time - {test_case.name}')\n",
    "    plt.gca().legend(loc='best')\n",
    "    plt.xlabel('Index')\n",
    "    plt.ylabel('Time (sec)')\n",
    "\n",
    "    #Saving the plots\n",
    "    # filename = f'plots/{runner}_{test_case}.png'\n",
    "    # plt.savefig(filename)\n",
    "    i += 1\n",
    "\n",
    "# plt.show()\n",
    "plt.savefig(os.path.join(plot_save_dir, \"blocksworld_verification_time.png\"))"
   ]
  },
  {
   "cell_type": "code",
   "execution_count": null,
   "metadata": {
    "collapsed": false
   },
   "outputs": [],
   "source": [
    "# Translation Time\n",
    "\n",
    "fig_rows = 2\n",
    "fig_cols = 3\n",
    "\n",
    "i=1\n",
    "plt.figure(figsize=(10, 6))\n",
    "for test_case, runners in results.items():\n",
    "    plt.subplot(fig_rows, fig_cols, i)\n",
    "    for runner, query_results in runners.items():\n",
    "        times = [res.time_translation for res in query_results]\n",
    "        times.sort()\n",
    "        median = times[int(len(times)/2)]\n",
    "        plt.plot(times, 'o-', label=f\"{runner.translation_name}\")  # - {runner.description} - median={median:.4f}\")\n",
    "\n",
    "    plt.title(f'Translation Time - {test_case.name}')\n",
    "    plt.gca().legend(loc='best')\n",
    "    plt.xlabel('Index')\n",
    "    plt.ylabel('Time (sec)')\n",
    "\n",
    "    #Saving the plots\n",
    "    # filename = f'plots/{runner}_{test_case}.png'\n",
    "    # plt.savefig(filename)\n",
    "    i += 1\n",
    "\n",
    "# plt.show()\n",
    "plt.savefig(os.path.join(plot_save_dir, \"blocksworld_translation_time.png\"))"
   ]
  }
 ],
 "metadata": {
  "kernelspec": {
   "display_name": "Python 3",
   "language": "python",
   "name": "python3"
  },
  "language_info": {
   "codemirror_mode": {
    "name": "ipython",
    "version": 3
   },
   "file_extension": ".py",
   "mimetype": "text/x-python",
   "name": "python",
   "nbconvert_exporter": "python",
   "pygments_lexer": "ipython3",
   "version": "3.9.0"
  },
  "orig_nbformat": 4
 },
 "nbformat": 4,
 "nbformat_minor": 2
}
