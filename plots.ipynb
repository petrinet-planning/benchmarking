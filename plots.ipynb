{
 "cells": [
  {
   "cell_type": "markdown",
   "metadata": {},
   "source": [
    "# imports"
   ]
  },
  {
   "cell_type": "code",
   "execution_count": null,
   "metadata": {},
   "outputs": [],
   "source": [
    "import os\n",
    "import os.path\n",
    "import pickle\n",
    "import matplotlib.pyplot as plt\n",
    "\n",
    "from test_runner import TestCase, BaseTestRunner, LiftedPlanningRunner, GroundedPlanningRunner\n",
    "from test_runner.tapaal_caller import QueryResult\n"
   ]
  },
  {
   "cell_type": "markdown",
   "metadata": {},
   "source": [
    "# Load Data"
   ]
  },
  {
   "cell_type": "code",
   "execution_count": null,
   "metadata": {},
   "outputs": [],
   "source": [
    "results_dir = \"./results\"\n",
    "\n",
    "results: dict[TestCase, dict[BaseTestRunner, list[QueryResult]]] = {}\n",
    "\n",
    "for filename in os.listdir(results_dir):\n",
    "    full_path = os.path.join(results_dir, filename)\n",
    "    if os.path.isfile(full_path):\n",
    "        with open(full_path, \"rb\") as f:\n",
    "            data: dict[TestCase, dict[BaseTestRunner, list[QueryResult]]] = pickle.load(f)\n",
    "            for k,v in data.items():\n",
    "                results[k] = v\n"
   ]
  },
  {
   "cell_type": "markdown",
   "metadata": {},
   "source": [
    "# Plots"
   ]
  },
  {
   "cell_type": "markdown",
   "metadata": {},
   "source": [
    "## General Setup"
   ]
  },
  {
   "cell_type": "code",
   "execution_count": null,
   "metadata": {},
   "outputs": [],
   "source": []
  },
  {
   "cell_type": "markdown",
   "metadata": {},
   "source": [
    "## Cactus Plot"
   ]
  },
  {
   "cell_type": "code",
   "execution_count": null,
   "metadata": {},
   "outputs": [],
   "source": [
    "for test_case, runners in results.items():\n",
    "    \n",
    "    plt.figure(figsize=(10, 6))\n",
    "    for runner, query_results in runners.items():\n",
    "        times = [res.time_total for res in query_results]\n",
    "        times.sort()\n",
    "        plt.plot(times, 'o-', label=f\"{runner.translation_name} - {runner.description}\")\n",
    "\n",
    "    plt.title(f'Total Time - {test_case.name}')\n",
    "    plt.gca().legend(loc='best')\n",
    "    plt.xlabel('Index')\n",
    "    plt.ylabel('Time (sec)')\n",
    "\n",
    "    #Saving the plots\n",
    "    # filename = f'plots/{runner}_{test_case}.png'\n",
    "    # plt.savefig(filename)\n",
    "    plt.show()"
   ]
  },
  {
   "cell_type": "code",
   "execution_count": null,
   "metadata": {
    "collapsed": false
   },
   "outputs": [],
   "source": []
  }
 ],
 "metadata": {
  "kernelspec": {
   "display_name": "Python 3",
   "language": "python",
   "name": "python3"
  },
  "language_info": {
   "codemirror_mode": {
    "name": "ipython",
    "version": 3
   },
   "file_extension": ".py",
   "mimetype": "text/x-python",
   "name": "python",
   "nbconvert_exporter": "python",
   "pygments_lexer": "ipython3",
   "version": "3.9.0"
  },
  "orig_nbformat": 4
 },
 "nbformat": 4,
 "nbformat_minor": 2
}
